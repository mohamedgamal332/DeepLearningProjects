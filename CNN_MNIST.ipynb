{
  "nbformat": 4,
  "nbformat_minor": 0,
  "metadata": {
    "colab": {
      "provenance": [],
      "gpuType": "T4"
    },
    "kernelspec": {
      "name": "python3",
      "display_name": "Python 3"
    },
    "language_info": {
      "name": "python"
    },
    "accelerator": "GPU"
  },
  "cells": [
    {
      "cell_type": "code",
      "execution_count": 9,
      "metadata": {
        "id": "oeuXJox0WNgT"
      },
      "outputs": [],
      "source": [
        "### Import Libraries\n",
        "import numpy as np\n",
        "import matplotlib.pyplot as plt\n",
        "import tensorflow as tf\n",
        "from tensorflow import keras\n",
        "from tensorflow.keras import layers, regularizers"
      ]
    },
    {
      "cell_type": "code",
      "source": [
        "### Load Dataset\n",
        "(train_images, train_labels), (test_images, test_labels) = keras.datasets.fashion_mnist.load_data()\n",
        "\n",
        "# Normalize data\n",
        "train_images = train_images / 255.0\n",
        "test_images = test_images / 255.0"
      ],
      "metadata": {
        "id": "Rp_58g39WxHA"
      },
      "execution_count": 10,
      "outputs": []
    },
    {
      "cell_type": "code",
      "source": [
        "### ANN Model\n",
        "ann = keras.Sequential([\n",
        "    layers.Flatten(input_shape=(28, 28)),\n",
        "    layers.Dense(128, activation='relu'),\n",
        "    layers.Dense(10, activation='softmax')\n",
        "])\n",
        "ann.compile(optimizer='adam', loss='sparse_categorical_crossentropy', metrics=['accuracy'])"
      ],
      "metadata": {
        "colab": {
          "base_uri": "https://localhost:8080/"
        },
        "id": "I-cseTqKW1r5",
        "outputId": "84644c5e-4d5d-4c71-a6bf-8a94089b1b35"
      },
      "execution_count": 11,
      "outputs": [
        {
          "output_type": "stream",
          "name": "stderr",
          "text": [
            "/usr/local/lib/python3.11/dist-packages/keras/src/layers/reshaping/flatten.py:37: UserWarning: Do not pass an `input_shape`/`input_dim` argument to a layer. When using Sequential models, prefer using an `Input(shape)` object as the first layer in the model instead.\n",
            "  super().__init__(**kwargs)\n"
          ]
        }
      ]
    },
    {
      "cell_type": "code",
      "source": [
        "### Deep ANN with L2 + Dropout\n",
        "deep_ann = keras.Sequential([\n",
        "    layers.Flatten(input_shape=(28, 28)),\n",
        "    layers.Dense(256, activation='relu', kernel_regularizer=regularizers.l2(0.001)),\n",
        "    layers.Dropout(0.5),\n",
        "    layers.Dense(128, activation='relu', kernel_regularizer=regularizers.l2(0.001)),\n",
        "    layers.Dropout(0.5),\n",
        "    layers.Dense(10, activation='softmax')\n",
        "])\n",
        "deep_ann.compile(optimizer='adam', loss='sparse_categorical_crossentropy', metrics=['accuracy'])"
      ],
      "metadata": {
        "id": "8cWWLtRpW41V"
      },
      "execution_count": 12,
      "outputs": []
    },
    {
      "cell_type": "code",
      "source": [
        "### CNN Model\n",
        "cnn = keras.Sequential([\n",
        "    layers.Reshape((28, 28, 1), input_shape=(28, 28)),\n",
        "    layers.Conv2D(32, (3, 3), activation='relu'),\n",
        "    layers.MaxPooling2D((2, 2)),\n",
        "    layers.Conv2D(64, (3, 3), activation='relu'),\n",
        "    layers.MaxPooling2D((2, 2)),\n",
        "    layers.Flatten(),\n",
        "    layers.Dense(128, activation='relu'),\n",
        "    layers.Dense(10, activation='softmax')\n",
        "])\n",
        "cnn.compile(optimizer='adam', loss='sparse_categorical_crossentropy', metrics=['accuracy'])\n",
        "early_stopping = keras.callbacks.EarlyStopping(monitor='val_loss', patience=3, restore_best_weights=True)"
      ],
      "metadata": {
        "colab": {
          "base_uri": "https://localhost:8080/"
        },
        "id": "2riuH7qnW8MO",
        "outputId": "78c3ae96-726e-4091-a7fc-bc8b1dbe472a"
      },
      "execution_count": 13,
      "outputs": [
        {
          "output_type": "stream",
          "name": "stderr",
          "text": [
            "/usr/local/lib/python3.11/dist-packages/keras/src/layers/reshaping/reshape.py:39: UserWarning: Do not pass an `input_shape`/`input_dim` argument to a layer. When using Sequential models, prefer using an `Input(shape)` object as the first layer in the model instead.\n",
            "  super().__init__(**kwargs)\n"
          ]
        }
      ]
    },
    {
      "cell_type": "code",
      "source": [
        "### Train Models\n",
        "history_ann = ann.fit(train_images, train_labels, validation_data=(test_images, test_labels), epochs=20, verbose=2)\n",
        "print(\"#\" * 50)\n",
        "history_deep_ann = deep_ann.fit(train_images, train_labels, validation_data=(test_images, test_labels), epochs=20, verbose=2)\n",
        "print(\"#\" * 50)\n",
        "history_cnn = cnn.fit(train_images, train_labels, validation_data=(test_images, test_labels), epochs=20, verbose=2, callbacks=[early_stopping])"
      ],
      "metadata": {
        "colab": {
          "base_uri": "https://localhost:8080/"
        },
        "id": "tcNYVyu-W-kG",
        "outputId": "3aaa9476-7269-4713-c501-5d30cc5328dc"
      },
      "execution_count": null,
      "outputs": [
        {
          "output_type": "stream",
          "name": "stdout",
          "text": [
            "Epoch 1/20\n",
            "1875/1875 - 6s - 3ms/step - accuracy: 0.8261 - loss: 0.4955 - val_accuracy: 0.8478 - val_loss: 0.4201\n",
            "Epoch 2/20\n",
            "1875/1875 - 9s - 5ms/step - accuracy: 0.8632 - loss: 0.3756 - val_accuracy: 0.8532 - val_loss: 0.4057\n",
            "Epoch 3/20\n",
            "1875/1875 - 6s - 3ms/step - accuracy: 0.8770 - loss: 0.3368 - val_accuracy: 0.8676 - val_loss: 0.3649\n",
            "Epoch 4/20\n",
            "1875/1875 - 5s - 2ms/step - accuracy: 0.8856 - loss: 0.3137 - val_accuracy: 0.8723 - val_loss: 0.3583\n",
            "Epoch 5/20\n",
            "1875/1875 - 5s - 3ms/step - accuracy: 0.8910 - loss: 0.2935 - val_accuracy: 0.8732 - val_loss: 0.3557\n",
            "Epoch 6/20\n",
            "1875/1875 - 5s - 3ms/step - accuracy: 0.8973 - loss: 0.2780 - val_accuracy: 0.8721 - val_loss: 0.3582\n",
            "Epoch 7/20\n",
            "1875/1875 - 4s - 2ms/step - accuracy: 0.9004 - loss: 0.2684 - val_accuracy: 0.8821 - val_loss: 0.3392\n",
            "Epoch 8/20\n",
            "1875/1875 - 6s - 3ms/step - accuracy: 0.9040 - loss: 0.2566 - val_accuracy: 0.8775 - val_loss: 0.3534\n",
            "Epoch 9/20\n",
            "1875/1875 - 5s - 2ms/step - accuracy: 0.9064 - loss: 0.2496 - val_accuracy: 0.8727 - val_loss: 0.3605\n",
            "Epoch 10/20\n",
            "1875/1875 - 5s - 2ms/step - accuracy: 0.9119 - loss: 0.2372 - val_accuracy: 0.8810 - val_loss: 0.3413\n",
            "Epoch 11/20\n",
            "1875/1875 - 5s - 2ms/step - accuracy: 0.9136 - loss: 0.2312 - val_accuracy: 0.8811 - val_loss: 0.3300\n",
            "Epoch 12/20\n",
            "1875/1875 - 4s - 2ms/step - accuracy: 0.9163 - loss: 0.2240 - val_accuracy: 0.8831 - val_loss: 0.3320\n",
            "Epoch 13/20\n",
            "1875/1875 - 6s - 3ms/step - accuracy: 0.9174 - loss: 0.2193 - val_accuracy: 0.8832 - val_loss: 0.3394\n",
            "Epoch 14/20\n",
            "1875/1875 - 4s - 2ms/step - accuracy: 0.9202 - loss: 0.2124 - val_accuracy: 0.8863 - val_loss: 0.3293\n",
            "Epoch 15/20\n",
            "1875/1875 - 6s - 3ms/step - accuracy: 0.9230 - loss: 0.2050 - val_accuracy: 0.8847 - val_loss: 0.3432\n",
            "Epoch 16/20\n",
            "1875/1875 - 4s - 2ms/step - accuracy: 0.9258 - loss: 0.2003 - val_accuracy: 0.8852 - val_loss: 0.3481\n",
            "Epoch 17/20\n",
            "1875/1875 - 5s - 3ms/step - accuracy: 0.9264 - loss: 0.1956 - val_accuracy: 0.8864 - val_loss: 0.3435\n",
            "Epoch 18/20\n",
            "1875/1875 - 6s - 3ms/step - accuracy: 0.9284 - loss: 0.1905 - val_accuracy: 0.8878 - val_loss: 0.3511\n",
            "Epoch 19/20\n",
            "1875/1875 - 4s - 2ms/step - accuracy: 0.9303 - loss: 0.1858 - val_accuracy: 0.8775 - val_loss: 0.3717\n",
            "Epoch 20/20\n",
            "1875/1875 - 5s - 3ms/step - accuracy: 0.9319 - loss: 0.1806 - val_accuracy: 0.8754 - val_loss: 0.3819\n",
            "##################################################\n",
            "Epoch 1/20\n",
            "1875/1875 - 9s - 5ms/step - accuracy: 0.7455 - loss: 0.9815 - val_accuracy: 0.8282 - val_loss: 0.6769\n",
            "Epoch 2/20\n",
            "1875/1875 - 5s - 3ms/step - accuracy: 0.8034 - loss: 0.7198 - val_accuracy: 0.8357 - val_loss: 0.6102\n",
            "Epoch 3/20\n",
            "1875/1875 - 5s - 2ms/step - accuracy: 0.8048 - loss: 0.6883 - val_accuracy: 0.8332 - val_loss: 0.5896\n",
            "Epoch 4/20\n",
            "1875/1875 - 5s - 3ms/step - accuracy: 0.8083 - loss: 0.6707 - val_accuracy: 0.8297 - val_loss: 0.6013\n",
            "Epoch 5/20\n",
            "1875/1875 - 4s - 2ms/step - accuracy: 0.8109 - loss: 0.6667 - val_accuracy: 0.8267 - val_loss: 0.5927\n",
            "Epoch 6/20\n",
            "1875/1875 - 4s - 2ms/step - accuracy: 0.8121 - loss: 0.6594 - val_accuracy: 0.8403 - val_loss: 0.5635\n",
            "Epoch 7/20\n",
            "1875/1875 - 6s - 3ms/step - accuracy: 0.8107 - loss: 0.6609 - val_accuracy: 0.8382 - val_loss: 0.5698\n",
            "Epoch 8/20\n",
            "1875/1875 - 10s - 5ms/step - accuracy: 0.8132 - loss: 0.6554 - val_accuracy: 0.8354 - val_loss: 0.5768\n",
            "Epoch 9/20\n",
            "1875/1875 - 5s - 2ms/step - accuracy: 0.8127 - loss: 0.6571 - val_accuracy: 0.8374 - val_loss: 0.5660\n",
            "Epoch 10/20\n",
            "1875/1875 - 5s - 3ms/step - accuracy: 0.8124 - loss: 0.6489 - val_accuracy: 0.8409 - val_loss: 0.5736\n",
            "Epoch 11/20\n",
            "1875/1875 - 10s - 5ms/step - accuracy: 0.8135 - loss: 0.6524 - val_accuracy: 0.8369 - val_loss: 0.5742\n",
            "Epoch 12/20\n",
            "1875/1875 - 5s - 3ms/step - accuracy: 0.8122 - loss: 0.6550 - val_accuracy: 0.8345 - val_loss: 0.5806\n",
            "Epoch 13/20\n",
            "1875/1875 - 5s - 2ms/step - accuracy: 0.8122 - loss: 0.6545 - val_accuracy: 0.8419 - val_loss: 0.5728\n"
          ]
        }
      ]
    },
    {
      "cell_type": "code",
      "source": [
        "### Evaluate Models\n",
        "ann_results = ann.evaluate(test_images, test_labels, verbose=0)\n",
        "deep_ann_results = deep_ann.evaluate(test_images, test_labels, verbose=0)\n",
        "cnn_results = cnn.evaluate(test_images, test_labels, verbose=0)\n",
        "print(f\"ANN Test Accuracy: {ann_results[1]:.4f}\")\n",
        "print(f\"Deep ANN Test Accuracy: {deep_ann_results[1]:.4f}\")\n",
        "print(f\"CNN Test Accuracy: {cnn_results[1]:.4f}\")"
      ],
      "metadata": {
        "id": "JPhuI9O8XA3S"
      },
      "execution_count": null,
      "outputs": []
    },
    {
      "cell_type": "code",
      "source": [
        "### Visualization\n",
        "def plot_history(history, title):\n",
        "    plt.plot(history.history['accuracy'], label='Train Accuracy')\n",
        "    plt.plot(history.history['val_accuracy'], label='Validation Accuracy')\n",
        "    plt.title(title)\n",
        "    plt.xlabel('Epochs')\n",
        "    plt.ylabel('Accuracy')\n",
        "    plt.legend()\n",
        "    plt.show()\n",
        "\n",
        "plot_history(history_ann, 'ANN')\n",
        "plot_history(history_deep_ann, 'Deep ANN (L2 + Dropout)')\n",
        "plot_history(history_cnn, 'CNN')\n"
      ],
      "metadata": {
        "id": "bHPQSbHVXDiC"
      },
      "execution_count": null,
      "outputs": []
    }
  ]
}